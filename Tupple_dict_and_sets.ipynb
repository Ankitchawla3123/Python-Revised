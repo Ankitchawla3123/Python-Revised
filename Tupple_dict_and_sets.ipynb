{
  "nbformat": 4,
  "nbformat_minor": 0,
  "metadata": {
    "colab": {
      "provenance": [],
      "collapsed_sections": [
        "8eF0xKQLxx-h",
        "bhABKu0LXrhl"
      ],
      "authorship_tag": "ABX9TyOU6PCqrjAYGZH0ZA6SWAbC",
      "include_colab_link": true
    },
    "kernelspec": {
      "name": "python3",
      "display_name": "Python 3"
    },
    "language_info": {
      "name": "python"
    }
  },
  "cells": [
    {
      "cell_type": "markdown",
      "metadata": {
        "id": "view-in-github",
        "colab_type": "text"
      },
      "source": [
        "<a href=\"https://colab.research.google.com/github/Ankitchawla3123/Python-Revised/blob/main/Tupple_dict_and_sets.ipynb\" target=\"_parent\"><img src=\"https://colab.research.google.com/assets/colab-badge.svg\" alt=\"Open In Colab\"/></a>"
      ]
    },
    {
      "cell_type": "code",
      "source": [],
      "metadata": {
        "id": "qgHfSp3ZxyH4"
      },
      "execution_count": null,
      "outputs": []
    },
    {
      "cell_type": "markdown",
      "source": [
        "# A Little bit about list"
      ],
      "metadata": {
        "id": "8eF0xKQLxx-h"
      }
    },
    {
      "cell_type": "code",
      "execution_count": null,
      "metadata": {
        "colab": {
          "base_uri": "https://localhost:8080/"
        },
        "id": "p4ma0-mYwToI",
        "outputId": "5d8723f2-9e01-4c7a-fced-2bd68af9cc05"
      },
      "outputs": [
        {
          "output_type": "stream",
          "name": "stdout",
          "text": [
            "[13, 3, 53, 5, 2]\n",
            "[13, 5, 2]\n"
          ]
        }
      ],
      "source": [
        "# deletion\n",
        "L=[13,3,4,53,5,2]\n",
        "del L[2]\n",
        "print(L)\n",
        "del L[1:3]\n",
        "print(L)"
      ]
    },
    {
      "cell_type": "code",
      "source": [
        "L.remove(5)\n",
        "L"
      ],
      "metadata": {
        "colab": {
          "base_uri": "https://localhost:8080/"
        },
        "id": "_EiKjlCPyJmv",
        "outputId": "0df9de3d-e4fc-4bf6-f26a-0432b154a63e"
      },
      "execution_count": null,
      "outputs": [
        {
          "output_type": "execute_result",
          "data": {
            "text/plain": [
              "[13, 2]"
            ]
          },
          "metadata": {},
          "execution_count": 3
        }
      ]
    },
    {
      "cell_type": "code",
      "source": [
        "L.pop() # will take index or last by default\n",
        "L.clear() # makes it an empty list\n"
      ],
      "metadata": {
        "id": "qQL9J4wFyRPQ"
      },
      "execution_count": null,
      "outputs": []
    },
    {
      "cell_type": "code",
      "source": [
        "# Arthematic operators in list\n",
        "L1=[1,2,3,4]\n",
        "L2=[5,6,7,8]\n",
        "print(L1+L2)\n",
        "print(L1*3)\n",
        "# in membership operator\n",
        "# few of the functions in list clear min max sorted etc\n",
        "\n",
        "\n",
        "\n"
      ],
      "metadata": {
        "colab": {
          "base_uri": "https://localhost:8080/"
        },
        "id": "vi1Wk3oEycoA",
        "outputId": "ea0ccb62-c1e1-45ee-e34b-9e2cd1618d7c"
      },
      "execution_count": null,
      "outputs": [
        {
          "output_type": "stream",
          "name": "stdout",
          "text": [
            "[1, 2, 3, 4, 5, 6, 7, 8]\n",
            "[1, 2, 3, 4, 1, 2, 3, 4, 1, 2, 3, 4]\n"
          ]
        }
      ]
    },
    {
      "cell_type": "code",
      "source": [
        "# list comprihension\n",
        "# newlist = [ exp for i in iteration if condition == true]"
      ],
      "metadata": {
        "id": "-SzLZg02y-rE"
      },
      "execution_count": null,
      "outputs": []
    },
    {
      "cell_type": "code",
      "source": [
        "# ZIP FUNCTION\n",
        "L1= [1,2,4,5,6]\n",
        "L2=[2,4,5,62]\n",
        "print((zip(L1,L2)))\n",
        "print(list(zip(L1,L2)))\n",
        "l3=[1,3,4,5,6,33,5,35,3]\n",
        "print(list(zip(L1,l3)))\n"
      ],
      "metadata": {
        "colab": {
          "base_uri": "https://localhost:8080/"
        },
        "id": "3xAhVckCzTe_",
        "outputId": "f21ff773-272b-4277-8cfd-234830d417ee"
      },
      "execution_count": null,
      "outputs": [
        {
          "output_type": "stream",
          "name": "stdout",
          "text": [
            "<zip object at 0x7d1534495880>\n",
            "[(1, 2), (2, 4), (4, 5), (5, 62)]\n",
            "[(1, 1), (2, 3), (4, 4), (5, 5), (6, 6)]\n"
          ]
        }
      ]
    },
    {
      "cell_type": "markdown",
      "source": [
        "#TUPLE\n"
      ],
      "metadata": {
        "id": "bhABKu0LXrhl"
      }
    },
    {
      "cell_type": "code",
      "source": [
        "# # TUPLES ARE FASTER\n",
        "# Immutability and Memory Allocation:\n",
        "# Tuples: Being immutable, their size and contents are fixed once created.\n",
        "# This allows the Python interpreter to allocate a single, contiguous block of memory for a tuple,\n",
        "# knowing that its size will not change. This fixed memory footprint leads to more efficient memory utilization and\n",
        "# potentially faster access times\n",
        "\n",
        "\n",
        "# LESSER MEMORY\n",
        "'''\n",
        "Fixed Size and No Over-allocation: Tuples are immutable, meaning their size cannot change after creation.\n",
        "This allows Python to allocate precisely the amount of memory needed for the tuple's\n",
        "elements at the time of its creation. Lists, being mutable, are implemented as dynamic arrays.\n",
        "To efficiently handle potential additions or removals of elements, lists often \"over-allocate\" memory,\n",
        "meaning they reserve more memory than currently required to avoid frequent, expensive reallocations when the list grows.\n",
        "This over-allocation contributes to lists using more memory.\n",
        "'''\n",
        "\n"
      ],
      "metadata": {
        "id": "ygy9J-xLXwBf"
      },
      "execution_count": null,
      "outputs": []
    },
    {
      "cell_type": "code",
      "source": [
        "# zip also works in this\n"
      ],
      "metadata": {
        "id": "UQ1KEQRoY2My"
      },
      "execution_count": null,
      "outputs": []
    },
    {
      "cell_type": "markdown",
      "source": [
        "#SETS\n"
      ],
      "metadata": {
        "id": "SFwi0YU-Y-Em"
      }
    },
    {
      "cell_type": "code",
      "source": [
        "# SETS IMPORTANT DATA-TYPE\n",
        "# UNODERED AND  NO DUPLICATES\n",
        "# We cannot have mutable datatypes inside set (like we cannot add list or dict )\n",
        "# 2D sets not possible because set's themselves are multable we can add value in the set and remove also\n",
        "\n",
        "s={ } # it creates a dictionary\n",
        "s= set() # This is an empty set\n",
        "# s={1,2,3,4,{23,31}} ## error as mutlatble inside the set\n",
        "s= {1,2,\"sd\",13,(1,3)}\n",
        "print(s)\n",
        "s={1,12.3,True,(1,3,4)} # true act as 1 so it will be a duplicate\n",
        "print(s)\n",
        "# no order in set\n",
        "\n",
        "s1={1,2,3}\n",
        "s2={3,2,1}\n",
        "print(s1==s2) # order doesn't matter\n"
      ],
      "metadata": {
        "colab": {
          "base_uri": "https://localhost:8080/"
        },
        "id": "WKFSyTZ2ZAsN",
        "outputId": "9cade759-edca-440f-bf08-0b3b8bdde0f0"
      },
      "execution_count": null,
      "outputs": [
        {
          "output_type": "stream",
          "name": "stdout",
          "text": [
            "{'sd', 1, 2, (1, 3), 13}\n",
            "{1, 12.3, (1, 3, 4)}\n",
            "True\n"
          ]
        }
      ]
    },
    {
      "cell_type": "code",
      "source": [
        "#accessing items in set\n",
        "# no indexing allowed\n",
        "# nor the slicing\n",
        "print(s)\n",
        "\n",
        "# add\n",
        "s.add(7)\n",
        "print(s)\n",
        "\n",
        "# update\n",
        "s.update([42,23,5,5314]) # multiple items added\n",
        "print(s)"
      ],
      "metadata": {
        "colab": {
          "base_uri": "https://localhost:8080/"
        },
        "id": "J6DAt7IPaM8i",
        "outputId": "5acea37b-c304-4d23-81d9-43965ba9055b"
      },
      "execution_count": null,
      "outputs": [
        {
          "output_type": "stream",
          "name": "stdout",
          "text": [
            "{1, 12.3, (1, 3, 4)}\n",
            "{1, 12.3, (1, 3, 4), 7}\n",
            "{1, 5314, 5, 7, 42, 12.3, (1, 3, 4), 23}\n"
          ]
        }
      ]
    },
    {
      "cell_type": "code",
      "source": [
        "# delete\n",
        "\n",
        "# del\n",
        "\n",
        "# del s               delete the whole set\n",
        "\n",
        "# discard\n",
        "print(s)\n",
        "s.discard(5)\n",
        "print('after discard', s)\n",
        "# no error thrown if object not found\n",
        "\n",
        "# remove\n",
        "s.remove(1)\n",
        "print('after remove', s)\n",
        "# error thrown if object not found\n",
        "\n",
        "# pop  delete any item randomly\n",
        "s.pop()\n",
        "\n",
        "print(s)\n",
        "\n",
        "# clear\n",
        "# s.clear()\n",
        "# print(s) empty set i.e  {}\n"
      ],
      "metadata": {
        "colab": {
          "base_uri": "https://localhost:8080/"
        },
        "id": "dRxDlxPCbdV6",
        "outputId": "97a4d2a0-c6f5-4189-9cf9-351ff78ed54f"
      },
      "execution_count": null,
      "outputs": [
        {
          "output_type": "stream",
          "name": "stdout",
          "text": [
            "{1, 5314, 5, 7, 42, 12.3, (1, 3, 4), 23}\n",
            "after discard {1, 5314, 7, 42, 12.3, (1, 3, 4), 23}\n",
            "after remove {5314, 7, 42, 12.3, (1, 3, 4), 23}\n",
            "{7, 42, 12.3, (1, 3, 4), 23}\n"
          ]
        }
      ]
    },
    {
      "cell_type": "code",
      "source": [
        "# union s1 | s2\n",
        "# intersection s1 & s2\n",
        "# difference  s1-s2 = s1 - (s1 & s2)\n",
        "# symetric diff  s1 ^ s2 = s1 U s2 - (s1 n s2) or we can say (s1 - s2) U (s2-s1)\n",
        "\n",
        "# membership test in and not in\n",
        "\n",
        "# also iteration is also available\n",
        "for i in s:\n",
        "  print(i, end=\" \")"
      ],
      "metadata": {
        "colab": {
          "base_uri": "https://localhost:8080/"
        },
        "id": "PNB-jxDocsWr",
        "outputId": "f11b2b91-01fa-4bc6-e084-771a3e7a634e"
      },
      "execution_count": null,
      "outputs": [
        {
          "output_type": "stream",
          "name": "stdout",
          "text": [
            "7 42 12.3 (1, 3, 4) 23 "
          ]
        }
      ]
    },
    {
      "cell_type": "code",
      "source": [
        "# len, sum , min , max and sorted\n",
        "print(s)\n",
        "s2={2,4,5,52,42}\n",
        "print(sorted(s2)) # will return a list\n",
        "# print(sorted(s)) # nneeds same dataype this will show an error cannot sort\n"
      ],
      "metadata": {
        "colab": {
          "base_uri": "https://localhost:8080/"
        },
        "id": "etAh3gp4dvco",
        "outputId": "2e306943-9038-4b4e-8b25-4202244d571a"
      },
      "execution_count": null,
      "outputs": [
        {
          "output_type": "stream",
          "name": "stdout",
          "text": [
            "{7, 42, 12.3, (1, 3, 4), 23}\n",
            "[2, 4, 5, 42, 52]\n"
          ]
        }
      ]
    },
    {
      "cell_type": "code",
      "source": [
        "# s1.union() # will show the union\n",
        "# s1.update() # will do  the union and will save it in s1\n",
        "# s1.intersection() # will show the intersection\n",
        "# s1.intersection_update() # will save the intersection in s1\n",
        "# s1.difference()\n",
        "# s1.difference_update()\n",
        "# s1.symmetric_difference()\n",
        "# s1.symmetric_difference_update()\n",
        "\n",
        "# s1.isdisjoint() # means no intersection\n",
        "\n",
        "# s1.issubset(s2) # is part of the set inside the bracket set\n",
        "# s1.issuperset(s2) # parent set of s2\n",
        "\n",
        "s1={12,3,1,21}\n",
        "s2=s1 # not a copy\n",
        "s2= s1.copy() # different address\n"
      ],
      "metadata": {
        "id": "y_2ns0dFeK_w"
      },
      "execution_count": null,
      "outputs": []
    },
    {
      "cell_type": "code",
      "source": [
        "# frozen set\n",
        "# immutable set\n",
        "fs=frozenset([1,2,3]) # any iterable to passed\n",
        "print(fs)\n",
        "\n"
      ],
      "metadata": {
        "colab": {
          "base_uri": "https://localhost:8080/"
        },
        "id": "msp2lRUguDKj",
        "outputId": "8ee4c32d-542e-4ec1-fea4-156ee2f235b9"
      },
      "execution_count": null,
      "outputs": [
        {
          "output_type": "stream",
          "name": "stdout",
          "text": [
            "frozenset({1, 2, 3})\n"
          ]
        }
      ]
    }
  ]
}